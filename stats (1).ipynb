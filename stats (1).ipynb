{
 "cells": [
  {
   "cell_type": "markdown",
   "id": "2c10f91a-bdf8-4fdf-bdb8-70739df96266",
   "metadata": {},
   "source": [
    "1. 1. Scenario: A company wants to analyze the sales performance of its products in different regions. They have collected the following data:\n",
    "   \n",
    "   Region A: [10, 15, 12, 8, 14]\n",
    "   \n",
    "   Region B: [18, 20, 16, 22, 25]\n",
    "   \n",
    "   Calculate the mean sales for each region.\n"
   ]
  },
  {
   "cell_type": "markdown",
   "id": "0c7e06e4-4bd7-42d4-a646-f86d9fb84dd6",
   "metadata": {},
   "source": [
    "Region A:\n",
    "\n",
    "Sales data: [10, 15, 12, 8, 14]\n",
    "\n",
    "Total sales in Region A = 10 + 15 + 12 + 8 + 14 = 59\n",
    "\n",
    "Number of data points in Region A = 5\n",
    "\n",
    "Mean sales in Region A = Total sales in Region A / Number of data points in Region A = 59 / 5 = 11.8\n",
    "\n",
    "Region B:\n",
    "\n",
    "Sales data: [18, 20, 16, 22, 25]\n",
    "\n",
    "Total sales in Region B = 18 + 20 + 16 + 22 + 25 = 101\n",
    "\n",
    "Number of data points in Region B = 5\n",
    "\n",
    "Mean sales in Region B = Total sales in Region B / Number of data points in Region B = 101 / 5 = 20.2"
   ]
  },
  {
   "cell_type": "markdown",
   "id": "a2820f3d-48f4-428d-8502-9f2e1e988b38",
   "metadata": {},
   "source": [
    "2. Scenario: A survey is conducted to measure customer satisfaction on a scale of 1 to 5. The data collected is as follows:\n",
    "\n",
    "   [4, 5, 2, 3, 5, 4, 3, 2, 4, 5]\n",
    "   |\n",
    "   Calculate the mode of the survey responses.\n"
   ]
  },
  {
   "cell_type": "markdown",
   "id": "0edc8928-6d65-47af-a5ba-38d3cdd5f1c4",
   "metadata": {},
   "source": [
    "In this case, both 4 and 5 appear most frequently, with a count of three each. Since there is more than one mode, this data set is considered multimodal. Therefore, the modes of the survey responses are 4 and 5."
   ]
  },
  {
   "cell_type": "markdown",
   "id": "bf950aa4-61a7-42e7-80d4-d1c2e3f054d7",
   "metadata": {},
   "source": [
    "3. Scenario: A company wants to compare the salaries of two departments. The salary data for Department A and Department B are as follows:\n",
    "    \n",
    "   Department A: [5000, 6000, 5500, 7000]\n",
    "\n",
    "   Department B: [4500, 5500, 5800, 6000, 5200]\n",
    "    \n",
    "   Calculate the median salary for each department.\n",
    "\n"
   ]
  },
  {
   "cell_type": "markdown",
   "id": "a77168a7-213f-4475-8f45-aa3228abe045",
   "metadata": {},
   "source": [
    "Department A:\n",
    "    \n",
    "    \n",
    "Salary data: [5000, 6000, 5500, 7000]\n",
    "\n",
    "Arrange in ascending order: [5000, 5500, 6000, 7000]\n",
    "\n",
    "Since the number of data points is even, the median is the average of the two middle values.\n",
    "\n",
    "Median salary in Department A = (5500 + 6000) / 2 = 5750\n",
    "\n",
    "Department B:\n",
    "    \n",
    "Salary data: [4500, 5500, 5800, 6000, 5200]\n",
    "\n",
    "Arrange in ascending order: [4500, 5200, 5500, 5800, 6000]\n",
    "\n",
    "Since the number of data points is odd, the median is the middle value.\n",
    "\n",
    "Median salary in Department B = 5500"
   ]
  },
  {
   "cell_type": "markdown",
   "id": "0b763e8b-e11d-4f7b-8eaa-cbcdd0a65986",
   "metadata": {},
   "source": [
    "4. Scenario: A data analyst wants to determine the variability in the daily stock prices of a company. The data collected is as follows:\n",
    "\n",
    "   [25.5, 24.8, 26.1, 25.3, 24.9]\n",
    "   \n",
    "   Calculate the range of the stock prices.\n"
   ]
  },
  {
   "cell_type": "markdown",
   "id": "106d8e2f-9b9e-487a-8d9e-584de02276d2",
   "metadata": {},
   "source": [
    "Range = Highest value - Lowest value\n",
    "\n",
    "Range = 26.1 - 24.8\n",
    "\n",
    "Range = 1.3"
   ]
  },
  {
   "cell_type": "markdown",
   "id": "50a5f2f3-be19-4c13-b12c-a5058e250b9b",
   "metadata": {},
   "source": [
    "5. Scenario: A study is conducted to compare the performance of two different teaching methods. The test scores of the students in each group are as follows:\n",
    "\n",
    "   Group A: [85, 90, 92, 88, 91]\n",
    "   \n",
    "   Group B: [82, 88, 90, 86, 87]\n",
    "   \n",
    "   Perform a t-test to determine if there is a significant difference in the mean scores between the two groups.\n"
   ]
  },
  {
   "cell_type": "code",
   "execution_count": 1,
   "id": "6f40fcd0-d4e1-4be7-a147-9b5d5e533ea5",
   "metadata": {},
   "outputs": [
    {
     "name": "stdout",
     "output_type": "stream",
     "text": [
      "T-Statistic: 1.4312528946642733\n",
      "P-Value: 0.19023970239078333\n"
     ]
    }
   ],
   "source": [
    "from scipy import stats\n",
    "\n",
    "# Data for Group A and Group B\n",
    "group_A = [85, 90, 92, 88, 91]\n",
    "group_B = [82, 88, 90, 86, 87]\n",
    "\n",
    "# Perform two-sample t-test\n",
    "t_statistic, p_value = stats.ttest_ind(group_A, group_B)\n",
    "\n",
    "# Print the results\n",
    "print(\"T-Statistic:\", t_statistic)\n",
    "print(\"P-Value:\", p_value)\n"
   ]
  },
  {
   "cell_type": "markdown",
   "id": "455bc894-2312-4887-8ed7-cf031a21eb4f",
   "metadata": {},
   "source": [
    "Since the p-value (0.19023970239078333) is greater than the commonly used significance level of 0.05, we do not have enough evidence to reject the null hypothesis. Therefore, we cannot conclude that there is a significant difference in the mean scores between Group A and Group B based on this data."
   ]
  },
  {
   "cell_type": "markdown",
   "id": "f85152ed-faf6-4934-ab19-828531d83f4a",
   "metadata": {},
   "source": [
    "6. Scenario: A company wants to analyze the relationship between advertising expenditure and sales. The data collected is as follows:\n",
    "    \n",
    "   Advertising Expenditure (in thousands): [10, 15, 12, 8, 14]\n",
    "\n",
    "   Sales (in thousands): [25, 30, 28, 20, 26]\n",
    "    \n",
    "   Calculate the correlation coefficient between advertising expenditure and sales.\n"
   ]
  },
  {
   "cell_type": "code",
   "execution_count": 2,
   "id": "e0cb3e92-52f2-4411-bdf4-976d55729bd5",
   "metadata": {},
   "outputs": [
    {
     "name": "stdout",
     "output_type": "stream",
     "text": [
      "Correlation Coefficient: 0.8757511375750132\n"
     ]
    }
   ],
   "source": [
    "import numpy as np\n",
    "\n",
    "# Advertising Expenditure (in thousands)\n",
    "advertising_expenditure = [10, 15, 12, 8, 14]\n",
    "\n",
    "# Sales (in thousands)\n",
    "sales = [25, 30, 28, 20, 26]\n",
    "\n",
    "# Calculate the correlation coefficient\n",
    "correlation_coefficient = np.corrcoef(advertising_expenditure, sales)[0, 1]\n",
    "\n",
    "# Print the result\n",
    "print(\"Correlation Coefficient:\", correlation_coefficient)\n"
   ]
  },
  {
   "cell_type": "markdown",
   "id": "f2b6d6d4-1be9-4909-a71e-587e097222f3",
   "metadata": {},
   "source": [
    "7. Scenario: A survey is conducted to measure the heights of a group of people. The data collected is as follows:\n",
    "   [160, 170, 165, 155, 175, 180, 170]\n",
    "   Calculate the standard deviation of the heights.\n"
   ]
  },
  {
   "cell_type": "markdown",
   "id": "aa313d87-173f-49d5-b4d8-f259c8f034ce",
   "metadata": {},
   "source": [
    "Calculate the mean:\n",
    "\n",
    "Mean = (160 + 170 + 165 + 155 + 175 + 180 + 170) / 7 = 166.43 (rounded to two decimal places)\n",
    "\n",
    "\n",
    "Subtract the mean and square the differences:\n",
    "\n",
    "(160 - 166.43)^2 = 42.1749\n",
    "\n",
    "\n",
    "(170 - 166.43)^2 = 12.9569\n",
    "\n",
    "(165 - 166.43)^2 = 1.9449\n",
    "\n",
    "(155 - 166.43)^2 = 130.5169\n",
    "\n",
    "(175 - 166.43)^2 = 74.0769\n",
    "\n",
    "(180 - 166.43)^2 = 185.1169\n",
    "\n",
    "(170 - 166.43)^2 = 12.9569\n",
    "\n",
    "Calculate the mean of the squared differences:\n",
    "\n",
    "Mean of squared differences = (42.1749 + 12.9569 + 1.9449 + 130.5169 + 74.0769 + 185.1169 + 12.9569) / 7 = 61.6735 (rounded to four decimal places)\n",
    "\n",
    "Take the square root of the mean of squared differences:\n",
    "\n",
    "Standard deviation = sqrt(61.6735) = 7.8533"
   ]
  },
  {
   "cell_type": "markdown",
   "id": "19d1a68a-234f-4d58-9507-0c912271eb39",
   "metadata": {},
   "source": [
    "8. Scenario: A company wants to analyze the relationship between employee tenure and job satisfaction. The data collected is as follows:\n",
    "    \n",
    "   Employee Tenure (in years): [2, 3, 5, 4, 6, 2, 4]\n",
    "\n",
    "   Job Satisfaction (on a scale of 1 to 10): [7, 8, 6, 9, 5, 7, 6]\n",
    "    \n",
    "   Perform a linear regression analysis to predict job satisfaction based on employee tenure.\n",
    "\n"
   ]
  },
  {
   "cell_type": "code",
   "execution_count": 3,
   "id": "efad1547-d6b7-4428-9d70-b47a27d77cba",
   "metadata": {},
   "outputs": [
    {
     "name": "stdout",
     "output_type": "stream",
     "text": [
      "                            OLS Regression Results                            \n",
      "==============================================================================\n",
      "Dep. Variable:                      y   R-squared:                       0.271\n",
      "Model:                            OLS   Adj. R-squared:                  0.125\n",
      "Method:                 Least Squares   F-statistic:                     1.859\n",
      "Date:                Tue, 11 Jul 2023   Prob (F-statistic):              0.231\n",
      "Time:                        08:05:18   Log-Likelihood:                -10.362\n",
      "No. Observations:                   7   AIC:                             24.72\n",
      "Df Residuals:                       5   BIC:                             24.62\n",
      "Df Model:                           1                                         \n",
      "Covariance Type:            nonrobust                                         \n",
      "==============================================================================\n",
      "                 coef    std err          t      P>|t|      [0.025      0.975]\n",
      "------------------------------------------------------------------------------\n",
      "const          8.5957      1.361      6.316      0.001       5.097      12.094\n",
      "x1            -0.4681      0.343     -1.363      0.231      -1.351       0.414\n",
      "==============================================================================\n",
      "Omnibus:                          nan   Durbin-Watson:                   2.414\n",
      "Prob(Omnibus):                    nan   Jarque-Bera (JB):                1.954\n",
      "Skew:                           1.292   Prob(JB):                        0.376\n",
      "Kurtosis:                       3.166   Cond. No.                         12.0\n",
      "==============================================================================\n",
      "\n",
      "Notes:\n",
      "[1] Standard Errors assume that the covariance matrix of the errors is correctly specified.\n"
     ]
    },
    {
     "name": "stderr",
     "output_type": "stream",
     "text": [
      "/opt/conda/lib/python3.10/site-packages/statsmodels/stats/stattools.py:74: ValueWarning: omni_normtest is not valid with less than 8 observations; 7 samples were given.\n",
      "  warn(\"omni_normtest is not valid with less than 8 observations; %i \"\n"
     ]
    }
   ],
   "source": [
    "import statsmodels.api as sm\n",
    "import numpy as np\n",
    "\n",
    "# Employee Tenure (in years)\n",
    "employee_tenure = [2, 3, 5, 4, 6, 2, 4]\n",
    "\n",
    "# Job Satisfaction (on a scale of 1 to 10)\n",
    "job_satisfaction = [7, 8, 6, 9, 5, 7, 6]\n",
    "\n",
    "# Add a constant term to the predictor variable\n",
    "employee_tenure = sm.add_constant(employee_tenure)\n",
    "\n",
    "# Fit the linear regression model\n",
    "model = sm.OLS(job_satisfaction, employee_tenure)\n",
    "results = model.fit()\n",
    "\n",
    "# Get the predicted job satisfaction values\n",
    "predicted_job_satisfaction = results.predict(employee_tenure)\n",
    "\n",
    "# Print the regression results\n",
    "print(results.summary())\n"
   ]
  },
  {
   "cell_type": "markdown",
   "id": "c7395f53-7c83-4494-8da7-246e4d46fe52",
   "metadata": {},
   "source": [
    "9. Scenario: A study is conducted to compare the effectiveness of two different medications. The recovery times of the patients in each group are as follows:\n",
    "\n",
    "   Medication A: [10, 12, 14, 11, 13]\n",
    "   \n",
    "   Medication B: [15, 17, 16, 14, 18]\n",
    "   \n",
    "   Perform an analysis of variance (ANOVA) to determine if there is a significant difference in the mean recovery times between the two medications.\n"
   ]
  },
  {
   "cell_type": "code",
   "execution_count": 4,
   "id": "cfcc2513-5224-47fc-b04d-84d454fc2ee0",
   "metadata": {},
   "outputs": [
    {
     "name": "stdout",
     "output_type": "stream",
     "text": [
      "F-value: 16.0\n",
      "P-value: 0.003949772803445326\n"
     ]
    }
   ],
   "source": [
    "from scipy import stats\n",
    "\n",
    "# Recovery times for Medication A and Medication B\n",
    "medication_A = [10, 12, 14, 11, 13]\n",
    "medication_B = [15, 17, 16, 14, 18]\n",
    "\n",
    "# Perform one-way ANOVA\n",
    "f_value, p_value = stats.f_oneway(medication_A, medication_B)\n",
    "\n",
    "# Print the results\n",
    "print(\"F-value:\", f_value)\n",
    "print(\"P-value:\", p_value)\n"
   ]
  },
  {
   "cell_type": "markdown",
   "id": "bcdac023-a93b-4a8e-bf89-dcac6ebfc17e",
   "metadata": {},
   "source": [
    "10. Scenario: A company wants to analyze customer feedback ratings on a scale of 1 to 10. The data collected is\n",
    "\n",
    " as follows:\n",
    " \n",
    "    [8, 9, 7, 6, 8, 10, 9, 8, 7, 8]\n",
    "    \n",
    "    Calculate the 75th percentile of the feedback ratings.\n"
   ]
  },
  {
   "cell_type": "code",
   "execution_count": 1,
   "id": "d025f87e-2072-4b8b-b213-3f5f5762025e",
   "metadata": {},
   "outputs": [
    {
     "name": "stdout",
     "output_type": "stream",
     "text": [
      "75th percentile: 8.75\n"
     ]
    }
   ],
   "source": [
    "import numpy as np\n",
    "\n",
    "# Feedback ratings\n",
    "feedback_ratings = [8, 9, 7, 6, 8, 10, 9, 8, 7, 8]\n",
    "\n",
    "# Calculate the 75th percentile\n",
    "percentile_75 = np.percentile(feedback_ratings, 75)\n",
    "\n",
    "# Print the result\n",
    "print(\"75th percentile:\", percentile_75)\n"
   ]
  },
  {
   "cell_type": "markdown",
   "id": "861486f0-918d-4592-9181-41db1b68f351",
   "metadata": {},
   "source": [
    "11.  Scenario: A quality control department wants to test the weight consistency of a product. The weights of a sample of products are as follows:\n",
    "    \n",
    "    [10.2, 9.8, 10.0, 10.5, 10.3, 10.1]\n",
    "    \n",
    "    Perform a hypothesis test to determine if the mean weight differs significantly from 10 grams.\n"
   ]
  },
  {
   "cell_type": "code",
   "execution_count": 2,
   "id": "8af44949-e366-4a24-a647-d94aca3e81c7",
   "metadata": {},
   "outputs": [
    {
     "name": "stdout",
     "output_type": "stream",
     "text": [
      "T-Statistic: 1.5126584522688367\n",
      "P-Value: 0.19077595151110102\n"
     ]
    }
   ],
   "source": [
    "from scipy import stats\n",
    "\n",
    "# Weights of the sample products\n",
    "weights = [10.2, 9.8, 10.0, 10.5, 10.3, 10.1]\n",
    "\n",
    "# Perform one-sample t-test\n",
    "t_statistic, p_value = stats.ttest_1samp(weights, 10)\n",
    "\n",
    "# Print the results\n",
    "print(\"T-Statistic:\", t_statistic)\n",
    "print(\"P-Value:\", p_value)\n"
   ]
  },
  {
   "cell_type": "markdown",
   "id": "612f31a2-8542-4387-baec-75338a0d1deb",
   "metadata": {},
   "source": [
    "12. Scenario: A company wants to analyze the click-through rates of two different website designs. The number of clicks for each design is as follows:\n",
    "\n",
    "    Design A: [100, 120, 110, 90, 95]\n",
    "    \n",
    "    Design B: [80, 85, 90, 95, 100]\n",
    "    \n",
    "    Perform a chi-square test to determine if there is a significant difference in the click-through rates between the two designs.\n"
   ]
  },
  {
   "cell_type": "code",
   "execution_count": 5,
   "id": "112f4329-7a26-4e09-a07c-93e5afa96cd2",
   "metadata": {},
   "outputs": [
    {
     "name": "stdout",
     "output_type": "stream",
     "text": [
      "Chi-square statistic: [2.22222222 5.97560976 2.         0.13513514 0.12820513]\n",
      "P-value: [0.13603713 0.01450507 0.15729921 0.71316606 0.72030033]\n"
     ]
    }
   ],
   "source": [
    "from scipy import stats\n",
    "import numpy as np\n",
    "\n",
    "# Click-through rates for Design A and Design B\n",
    "design_A = [100, 120, 110, 90, 95]\n",
    "design_B = [80, 85, 90, 95, 100]\n",
    "\n",
    "# Combine the data into a contingency table\n",
    "observed = np.array([design_A, design_B])\n",
    "\n",
    "# Perform chi-square test\n",
    "chi2_statistic, p_value = stats.chisquare(observed)\n",
    "\n",
    "# Print the results\n",
    "print(\"Chi-square statistic:\", chi2_statistic)\n",
    "print(\"P-value:\", p_value)\n",
    "\n"
   ]
  },
  {
   "cell_type": "markdown",
   "id": "446e7ac9-f250-489b-aa01-61adaab74967",
   "metadata": {},
   "source": [
    "13. scenario: A survey is conducted to measure customer satisfaction with a product on a scale of 1 to 10. The data collected is as follows:\n",
    "    \n",
    "    [7, 9, 6, 8, 10, 7, 8, 9, 7, 8]\n",
    "    \n",
    "    Calculate the 95% confidence interval for the population mean satisfaction score.\n"
   ]
  },
  {
   "cell_type": "markdown",
   "id": "def234c7-5443-4ac9-af2b-7131222b5fb3",
   "metadata": {},
   "source": [
    "To calculate the 95% confidence interval for the population mean satisfaction score, we can use the following formula:\n",
    "\n",
    "Confidence Interval = x̄ ± Z * (σ/√n)\n",
    "\n",
    "Where:\n",
    "\n",
    "x̄ is the sample mean\n",
    "Z is the z-score corresponding to the desired confidence level (95% confidence level corresponds to a z-score of 1.96)\n",
    "σ is the standard deviation of the population (unknown in this case)\n",
    "n is the sample size\n",
    "Let's calculate it step by step:\n",
    "\n",
    "Calculate the sample mean (x̄):\n",
    "x̄ = (7 + 9 + 6 + 8 + 10 + 7 + 8 + 9 + 7 + 8) / 10 = 79 / 10 = 7.9\n",
    "\n",
    "Calculate the sample standard deviation (s):\n",
    "s = √[(Σ(xi - x̄)^2) / (n - 1)]\n",
    "= √[((7-7.9)^2 + (9-7.9)^2 + (6-7.9)^2 + (8-7.9)^2 + (10-7.9)^2 + (7-7.9)^2 + (8-7.9)^2 + (9-7.9)^2 + (7-7.9)^2 + (8-7.9)^2) / (10-1)]\n",
    "= √[(0.81 + 1.21 + 2.89 + 0.01 + 4.41 + 0.81 + 0.01 + 1.21 + 0.81 + 0.01) / 9]\n",
    "= √(12.07 / 9)\n",
    "≈ √1.34\n",
    "≈ 1.16\n",
    "\n",
    "Calculate the standard error (SE):\n",
    "SE = s / √n\n",
    "= 1.16 / √10\n",
    "≈ 0.366\n",
    "\n",
    "Calculate the margin of error (ME):\n",
    "ME = Z * SE\n",
    "= 1.96 * 0.366\n",
    "≈ 0.717\n",
    "\n",
    "Calculate the lower and upper bounds of the confidence interval:\n",
    "Lower bound = x̄ - ME\n",
    "= 7.9 - 0.717\n",
    "≈ 7.183\n",
    "\n",
    "Upper bound = x̄ + ME\n",
    "= 7.9 + 0.717\n",
    "≈ 8.617\n",
    "\n",
    "Therefore, the 95% confidence interval for the population mean satisfaction score is approximately 7.183 to 8.617."
   ]
  },
  {
   "cell_type": "markdown",
   "id": "cf30a559-a892-4cce-b9f0-a2f59ccd0d51",
   "metadata": {},
   "source": [
    "14. Scenario: A company wants to analyze the effect of temperature on product performance. The data collected is as follows:\n",
    "    \n",
    "    Temperature (in degrees Celsius): [20, 22, 23, 19, 21]\n",
    "    \n",
    "    Performance (on a scale of 1 to 10): [8, 7, 9, 6, 8]\n",
    "    \n",
    "    Perform a simple linear regression to predict performance based on temperature.\n"
   ]
  },
  {
   "cell_type": "code",
   "execution_count": 6,
   "id": "c29639b3-7e0e-48dc-9e0c-9e315d70e9fe",
   "metadata": {},
   "outputs": [
    {
     "name": "stdout",
     "output_type": "stream",
     "text": [
      "The equation of the regression line is: y = 0.4999999999999999x + -2.8999999999999986\n"
     ]
    }
   ],
   "source": [
    "import numpy as np\n",
    "from sklearn.linear_model import LinearRegression\n",
    "\n",
    "# Temperature data\n",
    "temperature = np.array([20, 22, 23, 19, 21]).reshape(-1, 1)\n",
    "\n",
    "# Performance data\n",
    "performance = np.array([8, 7, 9, 6, 8])\n",
    "\n",
    "# Create a linear regression object\n",
    "regression_model = LinearRegression()\n",
    "\n",
    "# Fit the regression model to the data\n",
    "regression_model.fit(temperature, performance)\n",
    "\n",
    "# Get the slope (m) and y-intercept (b)\n",
    "slope = regression_model.coef_[0]\n",
    "intercept = regression_model.intercept_\n",
    "\n",
    "# Print the equation of the regression line\n",
    "print(f\"The equation of the regression line is: y = {slope}x + {intercept}\")\n"
   ]
  },
  {
   "cell_type": "markdown",
   "id": "e105f8a2-a539-4b97-a1d9-24b96ba30602",
   "metadata": {},
   "source": [
    "15. Scenario: A study is conducted to compare the preferences of two groups of participants. The preferences are measured on a Likert scale from 1 to 5. The data collected is as follows:\n",
    "\n",
    "    Group A: [4, 3, 5, 2, 4]\n",
    "    \n",
    "    Group B: [3, 2, 4, 3, 3]\n",
    "    \n",
    "    Perform a Mann-Whitney U test to determine if there is a significant difference in the median preferences between the two groups.\n"
   ]
  },
  {
   "cell_type": "code",
   "execution_count": 7,
   "id": "c951e267-8f68-4ebd-8b9e-be08c894baa6",
   "metadata": {},
   "outputs": [
    {
     "name": "stdout",
     "output_type": "stream",
     "text": [
      "Mann-Whitney U test results:\n",
      "U statistic: 17.0\n",
      "p-value: 0.380836480306712\n"
     ]
    }
   ],
   "source": [
    "import scipy.stats as stats\n",
    "\n",
    "# Preferences data\n",
    "group_a = [4, 3, 5, 2, 4]\n",
    "group_b = [3, 2, 4, 3, 3]\n",
    "\n",
    "# Perform Mann-Whitney U test\n",
    "statistic, p_value = stats.mannwhitneyu(group_a, group_b, alternative='two-sided')\n",
    "\n",
    "# Print the test results\n",
    "print(\"Mann-Whitney U test results:\")\n",
    "print(f\"U statistic: {statistic}\")\n",
    "print(f\"p-value: {p_value}\")\n"
   ]
  },
  {
   "cell_type": "markdown",
   "id": "4ec616c4-e546-4e87-8f57-1e0de9861089",
   "metadata": {},
   "source": [
    "16. Scenario: A company wants to analyze the distribution of customer ages. The data collected is as follows:\n",
    "\n",
    "    [25, 30, 35, 40, 45, 50, 55, 60, 65, 70]\n",
    "    \n",
    "    Calculate the interquartile range (IQR) of the ages.\n"
   ]
  },
  {
   "cell_type": "markdown",
   "id": "05151d7b-08e0-4a0c-b04d-b089c0e0103c",
   "metadata": {},
   "source": [
    "Sort the data in ascending order:\n",
    "\n",
    "[25, 30, 35, 40, 45, 50, 55, 60, 65, 70]\n",
    "\n",
    "Find the first quartile (Q1):\n",
    "Q1 is the median of the lower half of the data. Since we have an even number of data points, we take the average of the two middle values.\n",
    "\n",
    "Q1 = (35 + 40) / 2 = 75 / 2 = 37.5\n",
    "\n",
    "Find the third quartile (Q3):\n",
    "\n",
    "Q3 is the median of the upper half of the data.\n",
    "\n",
    "Q3 = (55 + 60) / 2 = 115 / 2 = 57.5\n",
    "\n",
    "Calculate the interquartile range (IQR):\n",
    "\n",
    "IQR = Q3 - Q1 = 57.5 - 37.5 = 20"
   ]
  },
  {
   "cell_type": "markdown",
   "id": "8fce562e-d517-4a5c-97c3-111a9e3bb712",
   "metadata": {},
   "source": [
    "17. Scenario: A study is conducted to compare the performance of three different machine learning algorithms. The accuracy scores for each algorithm are as follows:\n",
    "    \n",
    "    Algorithm A: [0.85, 0.80, 0.82, 0.87, 0.83]\n",
    "    \n",
    "    Algorithm B: [0.78, 0.82, 0.84, 0.80, 0.79]\n",
    "    \n",
    "    Algorithm C: [0.90, 0.88, 0.89, 0.86, 0.87]\n",
    "    \n",
    "    Perform a Kruskal-Wallis test to determine if there is a significant difference in the median accuracy scores between the algorithms.\n"
   ]
  },
  {
   "cell_type": "code",
   "execution_count": 8,
   "id": "6384ad3c-5bb0-4b99-926a-cf7d56796999",
   "metadata": {},
   "outputs": [
    {
     "name": "stdout",
     "output_type": "stream",
     "text": [
      "Kruskal-Wallis test results:\n",
      "Test statistic: 9.696947935368053\n",
      "p-value: 0.007840333026249539\n"
     ]
    }
   ],
   "source": [
    "import scipy.stats as stats\n",
    "\n",
    "# Accuracy scores data\n",
    "algorithm_a = [0.85, 0.80, 0.82, 0.87, 0.83]\n",
    "algorithm_b = [0.78, 0.82, 0.84, 0.80, 0.79]\n",
    "algorithm_c = [0.90, 0.88, 0.89, 0.86, 0.87]\n",
    "\n",
    "# Perform Kruskal-Wallis test\n",
    "statistic, p_value = stats.kruskal(algorithm_a, algorithm_b, algorithm_c)\n",
    "\n",
    "# Print the test results\n",
    "print(\"Kruskal-Wallis test results:\")\n",
    "print(f\"Test statistic: {statistic}\")\n",
    "print(f\"p-value: {p_value}\")\n"
   ]
  },
  {
   "cell_type": "markdown",
   "id": "0340acfc-60fa-479d-b230-ec7f3bc8ca12",
   "metadata": {},
   "source": [
    "18. Scenario: A company wants to analyze the effect of price on sales. The data collected is as follows:\n",
    "    \n",
    "    Price (in dollars): [10, 15, 12, 8, 14]\n",
    "    \n",
    "    Sales: [100, 80, 90, 110, 95]\n",
    "    \n",
    "    Perform a simple linear regression to predict\n",
    "\n",
    " sales based on price.\n"
   ]
  },
  {
   "cell_type": "code",
   "execution_count": 11,
   "id": "882c96ca-b27a-4504-ae59-4b8e6e0b0bfb",
   "metadata": {},
   "outputs": [
    {
     "name": "stdout",
     "output_type": "stream",
     "text": [
      "The equation of the regression line is: y = -3.5060975609756095x + 136.3719512195122\n"
     ]
    }
   ],
   "source": [
    "import numpy as np\n",
    "from sklearn.linear_model import LinearRegression\n",
    "\n",
    "# Price data\n",
    "price = np.array([10, 15, 12, 8, 14]).reshape(-1, 1)\n",
    "\n",
    "# Sales data\n",
    "sales = np.array([100, 80, 90, 110, 95])\n",
    "\n",
    "# Create a linear regression object\n",
    "regression_model = LinearRegression()\n",
    "\n",
    "# Fit the regression model to the data\n",
    "regression_model.fit(price, sales)\n",
    "\n",
    "# Get the slope (m) and y-intercept (b)\n",
    "slope = regression_model.coef_[0]\n",
    "intercept = regression_model.intercept_\n",
    "\n",
    "# Print the equation of the regression line\n",
    "print(f\"The equation of the regression line is: y = {slope}x + {intercept}\")\n"
   ]
  },
  {
   "cell_type": "markdown",
   "id": "96c8b728-86c0-49f4-b893-fff471936a72",
   "metadata": {},
   "source": [
    "19. Scenario: A survey is conducted to measure the satisfaction levels of customers with a new product. The data collected is as follows:\n",
    "    \n",
    "    [7, 8, 9, 6, 8, 7, 9, 7, 8, 7]\n",
    "    \n",
    "    Calculate the standard error of the mean satisfaction score.\n"
   ]
  },
  {
   "cell_type": "code",
   "execution_count": 12,
   "id": "54227ebd-d34a-4067-9752-c54440448a8b",
   "metadata": {},
   "outputs": [
    {
     "name": "stdout",
     "output_type": "stream",
     "text": [
      "The standard error of the mean is: 0.30550504633038933\n"
     ]
    }
   ],
   "source": [
    "import numpy as np\n",
    "\n",
    "# Data\n",
    "data = np.array([7, 8, 9, 6, 8, 7, 9, 7, 8, 7])\n",
    "\n",
    "# Calculate the standard error of the mean\n",
    "standard_error = np.std(data, ddof=1) / np.sqrt(len(data))\n",
    "\n",
    "# Print the standard error of the mean\n",
    "print(f\"The standard error of the mean is: {standard_error}\")\n"
   ]
  },
  {
   "cell_type": "markdown",
   "id": "d2f0eaaa-42b9-4fe0-a1d1-1c62428123e1",
   "metadata": {},
   "source": [
    "20. Scenario: A company wants to analyze the relationship between advertising expenditure and sales. The data collected is as follows:\n",
    "    \n",
    "    Advertising Expenditure (in thousands): [10, 15, 12, 8, 14]\n",
    "    \n",
    "    Sales (in thousands): [25, 30, 28, 20, 26]\n",
    "    \n",
    "    Perform a multiple regression analysis to predict sales based on advertising expenditure.\n",
    "\n"
   ]
  },
  {
   "cell_type": "code",
   "execution_count": 13,
   "id": "9d3ae510-b732-4239-9105-478edc0c6543",
   "metadata": {},
   "outputs": [
    {
     "name": "stdout",
     "output_type": "stream",
     "text": [
      "                            OLS Regression Results                            \n",
      "==============================================================================\n",
      "Dep. Variable:                      y   R-squared:                       0.767\n",
      "Model:                            OLS   Adj. R-squared:                  0.689\n",
      "Method:                 Least Squares   F-statistic:                     9.872\n",
      "Date:                Tue, 11 Jul 2023   Prob (F-statistic):             0.0516\n",
      "Time:                        09:50:57   Log-Likelihood:                -9.5288\n",
      "No. Observations:                   5   AIC:                             23.06\n",
      "Df Residuals:                       3   BIC:                             22.28\n",
      "Df Model:                           1                                         \n",
      "Covariance Type:            nonrobust                                         \n",
      "==============================================================================\n",
      "                 coef    std err          t      P>|t|      [0.025      0.975]\n",
      "------------------------------------------------------------------------------\n",
      "const         12.2012      4.429      2.755      0.070      -1.893      26.296\n",
      "x1             1.1524      0.367      3.142      0.052      -0.015       2.320\n",
      "==============================================================================\n",
      "Omnibus:                          nan   Durbin-Watson:                   1.136\n",
      "Prob(Omnibus):                    nan   Jarque-Bera (JB):                0.546\n",
      "Skew:                          -0.267   Prob(JB):                        0.761\n",
      "Kurtosis:                       1.471   Cond. No.                         57.3\n",
      "==============================================================================\n",
      "\n",
      "Notes:\n",
      "[1] Standard Errors assume that the covariance matrix of the errors is correctly specified.\n"
     ]
    },
    {
     "name": "stderr",
     "output_type": "stream",
     "text": [
      "/opt/conda/lib/python3.10/site-packages/statsmodels/stats/stattools.py:74: ValueWarning: omni_normtest is not valid with less than 8 observations; 5 samples were given.\n",
      "  warn(\"omni_normtest is not valid with less than 8 observations; %i \"\n"
     ]
    }
   ],
   "source": [
    "import numpy as np\n",
    "import statsmodels.api as sm\n",
    "\n",
    "# Advertising expenditure data\n",
    "expenditure = np.array([10, 15, 12, 8, 14])\n",
    "\n",
    "# Sales data\n",
    "sales = np.array([25, 30, 28, 20, 26])\n",
    "\n",
    "# Add a column of ones as the constant term to the independent variable\n",
    "X = sm.add_constant(expenditure)\n",
    "\n",
    "# Create a multiple regression model\n",
    "model = sm.OLS(sales, X)\n",
    "\n",
    "# Fit the model to the data\n",
    "results = model.fit()\n",
    "\n",
    "# Print the regression results\n",
    "print(results.summary())\n"
   ]
  },
  {
   "cell_type": "code",
   "execution_count": null,
   "id": "31989ace-2f00-4f30-b5d3-3689be52df04",
   "metadata": {},
   "outputs": [],
   "source": []
  }
 ],
 "metadata": {
  "kernelspec": {
   "display_name": "Python 3 (ipykernel)",
   "language": "python",
   "name": "python3"
  },
  "language_info": {
   "codemirror_mode": {
    "name": "ipython",
    "version": 3
   },
   "file_extension": ".py",
   "mimetype": "text/x-python",
   "name": "python",
   "nbconvert_exporter": "python",
   "pygments_lexer": "ipython3",
   "version": "3.10.8"
  }
 },
 "nbformat": 4,
 "nbformat_minor": 5
}
